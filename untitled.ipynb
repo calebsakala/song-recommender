{
 "cells": [
  {
   "cell_type": "code",
   "execution_count": 11,
   "id": "7c36b035",
   "metadata": {},
   "outputs": [],
   "source": [
    "import pandas as pd\n",
    "import tensorflow as tf\n",
    "import numpy as np\n",
    "import numpy.ma as ma\n",
    "from ipywidgets import IntProgress\n",
    "from IPython.display import display\n",
    "import time"
   ]
  },
  {
   "cell_type": "code",
   "execution_count": 12,
   "id": "1288eda7",
   "metadata": {},
   "outputs": [],
   "source": [
    "df = pd.read_csv('data.csv')\n",
    "filt = (df['year'] > 1999)\n",
    "df = df[filt].reset_index(drop=True)\n",
    "meta_df = df[['name', 'artists', 'year']]\n",
    "song_df = df.drop(columns=list(meta_df.columns.values))\n",
    "song_df.drop(columns=['release_date', 'id'], inplace=True)\n",
    "main_df = pd.concat([meta_df, song_df], axis=1)"
   ]
  },
  {
   "cell_type": "code",
   "execution_count": 13,
   "id": "1a8f88d7",
   "metadata": {},
   "outputs": [],
   "source": [
    "song_array = np.array(song_df)\n",
    "num_song_features = song_array.shape[1]"
   ]
  },
  {
   "cell_type": "code",
   "execution_count": 14,
   "id": "6304cf9a",
   "metadata": {},
   "outputs": [],
   "source": [
    "def sq_dist(a, b):\n",
    "#     Args: a (ndarray) (n,): vector with n features\n",
    "#     Args: b (ndarray) (n,): vector with n features\n",
    "    n = a.shape[0]\n",
    "    d = 0\n",
    "    for i in range(n):\n",
    "        d+= (a[i] - b[i])**2\n",
    "    return d"
   ]
  },
  {
   "cell_type": "code",
   "execution_count": 21,
   "id": "7db950c0",
   "metadata": {},
   "outputs": [],
   "source": [
    "count = 0\n",
    "dim = len(song_array)\n",
    "dist = np.zeros((dim, dim))\n",
    "total = dim**2"
   ]
  }