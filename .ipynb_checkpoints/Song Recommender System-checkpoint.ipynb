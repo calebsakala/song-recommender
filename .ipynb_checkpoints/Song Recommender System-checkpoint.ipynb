{
 "cells": [
  {
   "cell_type": "code",
   "execution_count": 92,
   "id": "f8d7f7f9",
   "metadata": {},
   "outputs": [],
   "source": [
    "import pandas as pd\n",
    "import tensorflow as tf\n",
    "import numpy as np\n",
    "import numpy.ma as ma\n",
    "from ipywidgets import IntProgress\n",
    "from IPython.display import display\n",
    "import time\n",
    "import math\n",
    "from numba import jit, cuda"
   ]
  },
  {
   "cell_type": "code",
   "execution_count": 59,
   "id": "7a02dc5a",
   "metadata": {},
   "outputs": [],
   "source": [
    "df = pd.read_csv('data.csv')\n",
    "filt = (df['year'] > 1999)\n",
    "df = df[filt].reset_index(drop=True)\n",
    "meta_df = df[['name', 'artists', 'year']]\n",
    "song_df = df.drop(columns=list(meta_df.columns.values))\n",
    "song_df.drop(columns=['release_date', 'id'], inplace=True)\n",
    "main_df = pd.concat([meta_df, song_df], axis=1)"
   ]
  },
  {
   "cell_type": "code",
   "execution_count": 155,
   "id": "cf1573c2",
   "metadata": {},
   "outputs": [],
   "source": [
    "song_array = np.array(song_df)\n",
    "num_song_features = song_array.shape[1]"
   ]
  },
  {
   "cell_type": "code",
   "execution_count": 156,
   "id": "26e9786b",
   "metadata": {},
   "outputs": [],
   "source": [
    "@jit(target_backend='cuda')\n",
    "def sq_dist(a, b):\n",
    "#     Args: a (ndarray) (n,): vector with n features\n",
    "#     Args: b (ndarray) (n,): vector with n features\n",
    "    n = a.shape[0]\n",
    "    d = 0\n",
    "    for i in range(n):\n",
    "        d+= (a[i] - b[i])**2\n",
    "    return d"
   ]
  },
  {
   "cell_type": "code",
   "execution_count": 157,
   "id": "1f2c1494",
   "metadata": {},
   "outputs": [],
   "source": [
    "dim = len(song_array)\n",
    "total = dim**2"
   ]
  },
  {
   "cell_type": "code",
   "execution_count": 158,
   "id": "f66b62e7",
   "metadata": {},
   "outputs": [],
   "source": [
    "@jit(target_backend='cuda')\n",
    "def generate_song_matrix(vectors, dimensions, iters):\n",
    "    \n",
    "    percentage = 0\n",
    "    count = 0\n",
    "    dist = np.zeros((dimensions, dimensions))\n",
    "    for i in range(dimensions):\n",
    "        for j in range(dimensions):\n",
    "            dist[i, j] = sq_dist(vectors[i], vectors[j])\n",
    "            count += 1\n",
    "            if count % math.ceil(iters/100) == 0:\n",
    "                percentage += 1\n",
    "                print(f\"{percentage}% loaded.\")\n",
    "    return dist"
   ]
  },
  {
   "cell_type": "code",
   "execution_count": 159,
   "id": "78ced5a9",
   "metadata": {},
   "outputs": [
    {
     "name": "stdout",
     "output_type": "stream",
     "text": [
      "1% loaded.\n",
      "2% loaded.\n",
      "3% loaded.\n",
      "4% loaded.\n",
      "5% loaded.\n",
      "6% loaded.\n",
      "7% loaded.\n",
      "8% loaded.\n",
      "9% loaded.\n",
      "10% loaded.\n",
      "11% loaded.\n",
      "12% loaded.\n",
      "13% loaded.\n",
      "14% loaded.\n",
      "15% loaded.\n",
      "16% loaded.\n",
      "17% loaded.\n",
      "18% loaded.\n",
      "19% loaded.\n",
      "20% loaded.\n",
      "21% loaded.\n",
      "22% loaded.\n",
      "23% loaded.\n",
      "24% loaded.\n",
      "25% loaded.\n",
      "26% loaded.\n",
      "27% loaded.\n",
      "28% loaded.\n",
      "29% loaded.\n",
      "30% loaded.\n",
      "31% loaded.\n",
      "32% loaded.\n",
      "33% loaded.\n",
      "34% loaded.\n",
      "35% loaded.\n",
      "36% loaded.\n",
      "37% loaded.\n",
      "38% loaded.\n",
      "39% loaded.\n",
      "40% loaded.\n",
      "41% loaded.\n",
      "42% loaded.\n",
      "43% loaded.\n",
      "44% loaded.\n",
      "45% loaded.\n",
      "46% loaded.\n",
      "47% loaded.\n",
      "48% loaded.\n",
      "49% loaded.\n",
      "50% loaded.\n",
      "51% loaded.\n",
      "52% loaded.\n",
      "53% loaded.\n",
      "54% loaded.\n",
      "55% loaded.\n",
      "56% loaded.\n",
      "57% loaded.\n",
      "58% loaded.\n",
      "59% loaded.\n",
      "60% loaded.\n",
      "61% loaded.\n",
      "62% loaded.\n",
      "63% loaded.\n",
      "64% loaded.\n",
      "65% loaded.\n",
      "66% loaded.\n",
      "67% loaded.\n",
      "68% loaded.\n",
      "69% loaded.\n",
      "70% loaded.\n",
      "71% loaded.\n",
      "72% loaded.\n",
      "73% loaded.\n",
      "74% loaded.\n",
      "75% loaded.\n",
      "76% loaded.\n",
      "77% loaded.\n",
      "78% loaded.\n",
      "79% loaded.\n",
      "80% loaded.\n",
      "81% loaded.\n",
      "82% loaded.\n",
      "83% loaded.\n",
      "84% loaded.\n",
      "85% loaded.\n",
      "86% loaded.\n",
      "87% loaded.\n",
      "88% loaded.\n",
      "89% loaded.\n",
      "90% loaded.\n",
      "91% loaded.\n",
      "92% loaded.\n",
      "93% loaded.\n",
      "94% loaded.\n",
      "95% loaded.\n",
      "96% loaded.\n",
      "97% loaded.\n",
      "98% loaded.\n",
      "99% loaded.\n",
      "100% loaded.\n",
      "--- 53.747498750686646 seconds ---\n"
     ]
    }
   ],
   "source": [
    "start_time = time.time()\n",
    "dist = generate_song_matrix(song_array, dim, total)\n",
    "print(\"--- %s seconds ---\" % (time.time() - start_time))"
   ]
  },
  {
   "cell_type": "code",
   "execution_count": 168,
   "id": "fe451ffd",
   "metadata": {},
   "outputs": [],
   "source": [
    "@jit(target_backend='cuda')\n",
    "def make_masked_array(matrix):\n",
    "    m_dist = ma.masked_array(dist, mask=np.identity(len(matrix)))"
   ]
  },
  {
   "cell_type": "code",
   "execution_count": null,
   "id": "017c24bc",
   "metadata": {},
   "outputs": [],
   "source": []
  }
 ],
 "metadata": {
  "kernelspec": {
   "display_name": "Python 3 (ipykernel)",
   "language": "python",
   "name": "python3"
  },
  "language_info": {
   "codemirror_mode": {
    "name": "ipython",
    "version": 3
   },
   "file_extension": ".py",
   "mimetype": "text/x-python",
   "name": "python",
   "nbconvert_exporter": "python",
   "pygments_lexer": "ipython3",
   "version": "3.9.12"
  }
 },
 "nbformat": 4,
 "nbformat_minor": 5
}
